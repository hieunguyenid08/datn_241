{
 "cells": [
  {
   "cell_type": "code",
   "execution_count": null,
   "id": "52890889-1171-4c7a-a051-10a7dc381f8c",
   "metadata": {},
   "outputs": [],
   "source": [
    "data_dict = {\n",
    "    #\"label\" :\"link\"\n",
    "      \"Iphone 15\": [\n",
    "        \"https://product.hstatic.net/200000409445/product/trang-1_8fba51fc48e44ded8efc158eed3cabfa_master.jpg\",\n",
    "        \"https://cdn2.cellphones.com.vn/insecure/rs:fill:358:358/q:90/plain/https://cellphones.com.vn/media/catalog/product/i/p/iphone-15-pro-max_4.png\",\n",
    "        \"https://cdsassets.apple.com/live/7WUAS350/images/tech-specs/iphone-15-pro-max.png\",\n",
    "        \"https://encrypted-tbn0.gstatic.com/images?q=tbn:ANd9GcR-FXpcfq_0BhttpS_tdQ3U2fw1xLqGrNmfMQ&s\",\n",
    "        \"https://m-cdn.phonearena.com/images/review/5801-wide-two_1200/iPhone-15-Pro-Max-vs-iPhone-15-Pro-Not-exactly-two-peas-in-a-pod.jpg\",\n",
    "        \"https://cdn.tgdd.vn/Products/Images/42/303891/iphone-15-plus-xanh-la-128gb-thumb-600x600.jpg\"\n",
    "    ],\n",
    "      \"Iphone 13\": [\n",
    "        \"https://encrypted-tbn0.gstatic.com/images?q=tbn:ANd9GcSFQ7aS5PvxCUjkW957w42j-9jcgpZrCm-YmQ&s\",\n",
    "        \"https://file.hstatic.net/1000259254/file/iphone-13-pro-max-3_4bc5ec25ccdb44f49a416745a0416632_grande.jpg\",\n",
    "        \"https://cdn.xtmobile.vn/vnt_upload/product/10_2021/thumbs/600_iphone_13_pro_max_256gb_vang.jpg\",\n",
    "        \"https://svstore.vn/uploads/source/iphone-13prm/iphone-13-pro-max-family-select.jpg\",\n",
    "        \"https://product.hstatic.net/1000359786/product/15_2280c21b647840c68bf8fb025cba7f37_master.jpg\"\n",
    "        \n",
    "        \n",
    "        \n",
    "    ],\n",
    "    \"Tcl Google Tv\": [\n",
    "        \"https://cdn.tgdd.vn/Products/Images/1942/306073/google-tivi-tcl-43-inch-43s5400-180423-113537-550x340.jpg\",\n",
    "        \"https://cdn.tgdd.vn/Products/Images/1942/281936/google-tcl-4k-55-inch-55p635-270522-021039-550x340.jpg\"\n",
    "     \n",
    "    ]\n",
    "}"
   ]
  },
  {
   "cell_type": "code",
   "execution_count": 40,
   "id": "2db9af42-2329-47db-a8d0-ec93fa547a97",
   "metadata": {},
   "outputs": [],
   "source": [
    "base_dir = \"./Data_images\""
   ]
  },
  {
   "cell_type": "code",
   "execution_count": 41,
   "id": "f11f6db3-bc00-42e2-8ebe-275207889134",
   "metadata": {},
   "outputs": [
    {
     "name": "stdout",
     "output_type": "stream",
     "text": [
      "Đã lưu: ./Data_images\\Iphone 15\\anh_0.jpg\n",
      "Đã lưu: ./Data_images\\Iphone 15\\anh_1.jpg\n",
      "Đã lưu: ./Data_images\\Iphone 15\\anh_2.jpg\n",
      "Đã lưu: ./Data_images\\Iphone 15\\anh_3.jpg\n",
      "Đã lưu: ./Data_images\\Iphone 15\\anh_4.jpg\n",
      "Đã lưu: ./Data_images\\Iphone 13\\anh_0.jpg\n",
      "Đã lưu: ./Data_images\\Iphone 13\\anh_1.jpg\n",
      "Đã lưu: ./Data_images\\Iphone 13\\anh_2.jpg\n",
      "Đã lưu: ./Data_images\\Iphone 13\\anh_3.jpg\n",
      "Đã lưu: ./Data_images\\Iphone 13\\anh_4.jpg\n",
      "Đã lưu: ./Data_images\\Tcl Google Tv\\anh_0.jpg\n",
      "Đã lưu: ./Data_images\\Tcl Google Tv\\anh_1.jpg\n"
     ]
    }
   ],
   "source": [
    "import os\n",
    "import requests\n",
    "from PIL import Image\n",
    "from io import BytesIO\n",
    "\n",
    "# Hàm tải và lưu ảnh\n",
    "def tai_va_luu_anh(url, path_to_save):\n",
    "    try:\n",
    "        response = requests.get(url)\n",
    "        if response.status_code == 200:\n",
    "            img = Image.open(BytesIO(response.content))\n",
    "\n",
    "            # Kiểm tra nếu ảnh là trong chế độ RGBA, chuyển nó sang RGB\n",
    "            if img.mode == 'RGBA':\n",
    "                img = img.convert('RGB')\n",
    "\n",
    "            img.save(path_to_save)\n",
    "            print(f\"Đã lưu: {path_to_save}\")\n",
    "        else:\n",
    "            print(f\"Lỗi khi tải ảnh từ {url}: Status code {response.status_code}\")\n",
    "    except Exception as e:\n",
    "        print(f\"Không thể tải ảnh từ {url}. Lỗi: {e}\")\n",
    "\n",
    "# Giả sử `base_dir` và `data_dict` đã được định nghĩa\n",
    "# Duyệt qua từ điển và tải ảnh\n",
    "for label, urls in data_dict.items():\n",
    "    # Tạo thư mục cho mỗi label nếu chưa tồn tại\n",
    "    label_dir = os.path.join(base_dir, label)  # Sử dụng trực tiếp tên label\n",
    "    os.makedirs(label_dir, exist_ok=True)\n",
    "    \n",
    "    # Tải và lưu mỗi ảnh trong list\n",
    "    for i, url in enumerate(urls):\n",
    "        file_name = f\"anh_{i}.jpg\"  # Đặt tên file\n",
    "        path_to_save = os.path.join(label_dir, file_name)\n",
    "        tai_va_luu_anh(url, path_to_save)"
   ]
  },
  {
   "cell_type": "code",
   "execution_count": 42,
   "id": "6fa26698-a59b-4126-bfb6-e2b7fc98f962",
   "metadata": {},
   "outputs": [
    {
     "name": "stdout",
     "output_type": "stream",
     "text": [
      "./Data_images\\Iphone 13\n",
      "./Data_images\\Iphone 15\n",
      "./Data_images\\Tcl Google Tv\n",
      "Dữ liệu huấn luyện: (9, 128, 128, 3), Nhãn huấn luyện: (9,)\n",
      "Dữ liệu kiểm tra: (3, 128, 128, 3), Nhãn kiểm tra: (3,)\n"
     ]
    }
   ],
   "source": [
    "import glob\n",
    "import numpy as np\n",
    "import os\n",
    "from PIL import Image\n",
    "\n",
    "    \n",
    "def doc_va_chuyen_doi_anh_voi_nhan(thu_muc, label, target_size=(128, 128)):\n",
    "    data_arrays = []\n",
    "    labels = []\n",
    "    \n",
    "    # Include both JPG and PNG files in the search pattern\n",
    "    for file_path in glob.glob(os.path.join(thu_muc, \"*.*\")):\n",
    "        if file_path.lower().endswith(('.png', '.jpg', '.jpeg')):\n",
    "            img = Image.open(file_path).convert('RGB')  # Convert to RGB\n",
    "            img_resized = img.resize(target_size)\n",
    "            img_array = np.array(img_resized) / 255.0\n",
    "            #print(img_array.shape)  # Debugging to check shape\n",
    "            data_arrays.append(img_array)\n",
    "            labels.append(label)\n",
    "    \n",
    "    return np.array(data_arrays), np.array(labels)\n",
    "\n",
    "data_train = []\n",
    "labels_train = []\n",
    "data_test = []\n",
    "labels_test = []\n",
    "\n",
    "# Sử dụng hàm cho mỗi thư mục nhãn\n",
    "for label in os.listdir(base_dir):\n",
    "    full_path = os.path.join(base_dir, label)\n",
    "    print(full_path)\n",
    "    data, labels = doc_va_chuyen_doi_anh_voi_nhan(full_path, label)\n",
    "    \n",
    "    # Giả sử chia 90% đầu làm dữ liệu huấn luyện và 10% còn lại làm dữ liệu kiểm tra\n",
    "    split_idx = int(len(data) * 0.9)\n",
    "    data_train.extend(data[:split_idx])\n",
    "    labels_train.extend(labels[:split_idx])\n",
    "    \n",
    "    data_test.extend(data[split_idx:])\n",
    "    labels_test.extend(labels[split_idx:])\n",
    "\n",
    "# Chuyển các list thành numpy arrays\n",
    "data_train = np.array(data_train)\n",
    "labels_train = np.array(labels_train)\n",
    "data_test = np.array(data_test)\n",
    "labels_test = np.array(labels_test)\n",
    "\n",
    "print(f\"Dữ liệu huấn luyện: {data_train.shape}, Nhãn huấn luyện: {labels_train.shape}\")\n",
    "print(f\"Dữ liệu kiểm tra: {data_test.shape}, Nhãn kiểm tra: {labels_test.shape}\")\n"
   ]
  },
  {
   "cell_type": "code",
   "execution_count": 43,
   "id": "3f43b177-a43b-4ec9-885f-7baf8b553e2c",
   "metadata": {},
   "outputs": [
    {
     "data": {
      "text/plain": [
       "(3, 128, 128, 3)"
      ]
     },
     "execution_count": 43,
     "metadata": {},
     "output_type": "execute_result"
    }
   ],
   "source": [
    "data_test.shape"
   ]
  },
  {
   "cell_type": "code",
   "execution_count": 44,
   "id": "ef73b070-8150-4151-b0e5-ecfe35282a77",
   "metadata": {},
   "outputs": [
    {
     "data": {
      "text/plain": [
       "array(['Iphone 13', 'Iphone 15', 'Tcl Google Tv'], dtype='<U13')"
      ]
     },
     "execution_count": 44,
     "metadata": {},
     "output_type": "execute_result"
    }
   ],
   "source": [
    "labels_test"
   ]
  },
  {
   "cell_type": "code",
   "execution_count": 45,
   "id": "07404be6-b706-4417-9342-52174520ade6",
   "metadata": {},
   "outputs": [
    {
     "name": "stdout",
     "output_type": "stream",
     "text": [
      "[0 0 0 0 1 1 1 1 2]\n",
      "[0 1 2]\n"
     ]
    }
   ],
   "source": [
    "from sklearn.preprocessing import LabelEncoder\n",
    "\n",
    "# Tạo một encoder\n",
    "encoder = LabelEncoder()\n",
    "\n",
    "# Đưa nhãn văn bản về dạng số nguyên\n",
    "labels_train_encoded = encoder.fit_transform(labels_train)\n",
    "labels_test_encoded = encoder.fit_transform(labels_test)\n",
    "# In nhãn sau khi được mã hóa để kiểm tra\n",
    "print(labels_train_encoded)\n",
    "print(labels_test_encoded)"
   ]
  },
  {
   "cell_type": "code",
   "execution_count": 46,
   "id": "3c0ec265-6f9c-45f6-8aa7-db904dba2df0",
   "metadata": {},
   "outputs": [
    {
     "name": "stdout",
     "output_type": "stream",
     "text": [
      "Requirement already satisfied: tensorflow in c:\\users\\huuhi\\anaconda3\\lib\\site-packages (2.18.0)\n",
      "Requirement already satisfied: tensorflow-intel==2.18.0 in c:\\users\\huuhi\\anaconda3\\lib\\site-packages (from tensorflow) (2.18.0)\n",
      "Requirement already satisfied: absl-py>=1.0.0 in c:\\users\\huuhi\\anaconda3\\lib\\site-packages (from tensorflow-intel==2.18.0->tensorflow) (2.1.0)\n",
      "Requirement already satisfied: astunparse>=1.6.0 in c:\\users\\huuhi\\anaconda3\\lib\\site-packages (from tensorflow-intel==2.18.0->tensorflow) (1.6.3)\n",
      "Requirement already satisfied: flatbuffers>=24.3.25 in c:\\users\\huuhi\\anaconda3\\lib\\site-packages (from tensorflow-intel==2.18.0->tensorflow) (24.3.25)\n",
      "Requirement already satisfied: gast!=0.5.0,!=0.5.1,!=0.5.2,>=0.2.1 in c:\\users\\huuhi\\anaconda3\\lib\\site-packages (from tensorflow-intel==2.18.0->tensorflow) (0.6.0)\n",
      "Requirement already satisfied: google-pasta>=0.1.1 in c:\\users\\huuhi\\anaconda3\\lib\\site-packages (from tensorflow-intel==2.18.0->tensorflow) (0.2.0)\n",
      "Requirement already satisfied: libclang>=13.0.0 in c:\\users\\huuhi\\anaconda3\\lib\\site-packages (from tensorflow-intel==2.18.0->tensorflow) (18.1.1)\n",
      "Requirement already satisfied: opt-einsum>=2.3.2 in c:\\users\\huuhi\\anaconda3\\lib\\site-packages (from tensorflow-intel==2.18.0->tensorflow) (3.4.0)\n",
      "Requirement already satisfied: packaging in c:\\users\\huuhi\\anaconda3\\lib\\site-packages (from tensorflow-intel==2.18.0->tensorflow) (23.1)\n",
      "Requirement already satisfied: protobuf!=4.21.0,!=4.21.1,!=4.21.2,!=4.21.3,!=4.21.4,!=4.21.5,<6.0.0dev,>=3.20.3 in c:\\users\\huuhi\\anaconda3\\lib\\site-packages (from tensorflow-intel==2.18.0->tensorflow) (3.20.3)\n",
      "Requirement already satisfied: requests<3,>=2.21.0 in c:\\users\\huuhi\\anaconda3\\lib\\site-packages (from tensorflow-intel==2.18.0->tensorflow) (2.31.0)\n",
      "Requirement already satisfied: setuptools in c:\\users\\huuhi\\anaconda3\\lib\\site-packages (from tensorflow-intel==2.18.0->tensorflow) (68.2.2)\n",
      "Requirement already satisfied: six>=1.12.0 in c:\\users\\huuhi\\anaconda3\\lib\\site-packages (from tensorflow-intel==2.18.0->tensorflow) (1.16.0)\n",
      "Requirement already satisfied: termcolor>=1.1.0 in c:\\users\\huuhi\\anaconda3\\lib\\site-packages (from tensorflow-intel==2.18.0->tensorflow) (2.5.0)\n",
      "Requirement already satisfied: typing-extensions>=3.6.6 in c:\\users\\huuhi\\anaconda3\\lib\\site-packages (from tensorflow-intel==2.18.0->tensorflow) (4.9.0)\n",
      "Requirement already satisfied: wrapt>=1.11.0 in c:\\users\\huuhi\\anaconda3\\lib\\site-packages (from tensorflow-intel==2.18.0->tensorflow) (1.14.1)\n",
      "Requirement already satisfied: grpcio<2.0,>=1.24.3 in c:\\users\\huuhi\\anaconda3\\lib\\site-packages (from tensorflow-intel==2.18.0->tensorflow) (1.68.0)\n",
      "Requirement already satisfied: tensorboard<2.19,>=2.18 in c:\\users\\huuhi\\anaconda3\\lib\\site-packages (from tensorflow-intel==2.18.0->tensorflow) (2.18.0)\n",
      "Requirement already satisfied: keras>=3.5.0 in c:\\users\\huuhi\\anaconda3\\lib\\site-packages (from tensorflow-intel==2.18.0->tensorflow) (3.6.0)\n",
      "Requirement already satisfied: numpy<2.1.0,>=1.26.0 in c:\\users\\huuhi\\anaconda3\\lib\\site-packages (from tensorflow-intel==2.18.0->tensorflow) (1.26.4)\n",
      "Requirement already satisfied: h5py>=3.11.0 in c:\\users\\huuhi\\anaconda3\\lib\\site-packages (from tensorflow-intel==2.18.0->tensorflow) (3.12.1)\n",
      "Requirement already satisfied: ml-dtypes<0.5.0,>=0.4.0 in c:\\users\\huuhi\\anaconda3\\lib\\site-packages (from tensorflow-intel==2.18.0->tensorflow) (0.4.1)\n",
      "Requirement already satisfied: tensorflow-io-gcs-filesystem>=0.23.1 in c:\\users\\huuhi\\anaconda3\\lib\\site-packages (from tensorflow-intel==2.18.0->tensorflow) (0.31.0)\n",
      "Requirement already satisfied: wheel<1.0,>=0.23.0 in c:\\users\\huuhi\\anaconda3\\lib\\site-packages (from astunparse>=1.6.0->tensorflow-intel==2.18.0->tensorflow) (0.41.2)\n",
      "Requirement already satisfied: rich in c:\\users\\huuhi\\anaconda3\\lib\\site-packages (from keras>=3.5.0->tensorflow-intel==2.18.0->tensorflow) (13.3.5)\n",
      "Requirement already satisfied: namex in c:\\users\\huuhi\\anaconda3\\lib\\site-packages (from keras>=3.5.0->tensorflow-intel==2.18.0->tensorflow) (0.0.8)\n",
      "Requirement already satisfied: optree in c:\\users\\huuhi\\anaconda3\\lib\\site-packages (from keras>=3.5.0->tensorflow-intel==2.18.0->tensorflow) (0.13.1)\n",
      "Requirement already satisfied: charset-normalizer<4,>=2 in c:\\users\\huuhi\\anaconda3\\lib\\site-packages (from requests<3,>=2.21.0->tensorflow-intel==2.18.0->tensorflow) (2.0.4)\n",
      "Requirement already satisfied: idna<4,>=2.5 in c:\\users\\huuhi\\anaconda3\\lib\\site-packages (from requests<3,>=2.21.0->tensorflow-intel==2.18.0->tensorflow) (3.4)\n",
      "Requirement already satisfied: urllib3<3,>=1.21.1 in c:\\users\\huuhi\\anaconda3\\lib\\site-packages (from requests<3,>=2.21.0->tensorflow-intel==2.18.0->tensorflow) (2.0.7)\n",
      "Requirement already satisfied: certifi>=2017.4.17 in c:\\users\\huuhi\\anaconda3\\lib\\site-packages (from requests<3,>=2.21.0->tensorflow-intel==2.18.0->tensorflow) (2024.2.2)\n",
      "Requirement already satisfied: markdown>=2.6.8 in c:\\users\\huuhi\\anaconda3\\lib\\site-packages (from tensorboard<2.19,>=2.18->tensorflow-intel==2.18.0->tensorflow) (3.4.1)\n",
      "Requirement already satisfied: tensorboard-data-server<0.8.0,>=0.7.0 in c:\\users\\huuhi\\anaconda3\\lib\\site-packages (from tensorboard<2.19,>=2.18->tensorflow-intel==2.18.0->tensorflow) (0.7.2)\n",
      "Requirement already satisfied: werkzeug>=1.0.1 in c:\\users\\huuhi\\anaconda3\\lib\\site-packages (from tensorboard<2.19,>=2.18->tensorflow-intel==2.18.0->tensorflow) (2.2.3)\n",
      "Requirement already satisfied: MarkupSafe>=2.1.1 in c:\\users\\huuhi\\anaconda3\\lib\\site-packages (from werkzeug>=1.0.1->tensorboard<2.19,>=2.18->tensorflow-intel==2.18.0->tensorflow) (2.1.3)\n",
      "Requirement already satisfied: markdown-it-py<3.0.0,>=2.2.0 in c:\\users\\huuhi\\anaconda3\\lib\\site-packages (from rich->keras>=3.5.0->tensorflow-intel==2.18.0->tensorflow) (2.2.0)\n",
      "Requirement already satisfied: pygments<3.0.0,>=2.13.0 in c:\\users\\huuhi\\anaconda3\\lib\\site-packages (from rich->keras>=3.5.0->tensorflow-intel==2.18.0->tensorflow) (2.15.1)\n",
      "Requirement already satisfied: mdurl~=0.1 in c:\\users\\huuhi\\anaconda3\\lib\\site-packages (from markdown-it-py<3.0.0,>=2.2.0->rich->keras>=3.5.0->tensorflow-intel==2.18.0->tensorflow) (0.1.0)\n",
      "Note: you may need to restart the kernel to use updated packages.\n"
     ]
    }
   ],
   "source": [
    "pip install tensorflow"
   ]
  },
  {
   "cell_type": "code",
   "execution_count": 47,
   "id": "f15ffd29-9beb-42a6-9c32-4ae2cf629e11",
   "metadata": {},
   "outputs": [],
   "source": [
    "from tensorflow.keras.utils import to_categorical\n",
    "\n",
    "\n",
    "# Chuyển đổi nhãn sang dạng one-hot\n",
    "labels_train_one_hot = to_categorical(labels_train_encoded)\n",
    "labels_test_one_hot = to_categorical(labels_test_encoded)"
   ]
  },
  {
   "cell_type": "code",
   "execution_count": 48,
   "id": "8117a684-5a05-42d0-9d21-1ec9d99439f0",
   "metadata": {
    "scrolled": true
   },
   "outputs": [
    {
     "data": {
      "text/plain": [
       "array([[1., 0., 0.],\n",
       "       [1., 0., 0.],\n",
       "       [1., 0., 0.],\n",
       "       [1., 0., 0.],\n",
       "       [0., 1., 0.],\n",
       "       [0., 1., 0.],\n",
       "       [0., 1., 0.],\n",
       "       [0., 1., 0.],\n",
       "       [0., 0., 1.]])"
      ]
     },
     "execution_count": 48,
     "metadata": {},
     "output_type": "execute_result"
    }
   ],
   "source": [
    "labels_train_one_hot"
   ]
  },
  {
   "cell_type": "code",
   "execution_count": null,
   "id": "ce9dc1e9",
   "metadata": {},
   "outputs": [],
   "source": []
  },
  {
   "cell_type": "code",
   "execution_count": 49,
   "id": "fe57fb6d-9bbe-4c30-a992-0f33f2c22de9",
   "metadata": {},
   "outputs": [
    {
     "name": "stdout",
     "output_type": "stream",
     "text": [
      "3\n"
     ]
    }
   ],
   "source": [
    "entries = os.listdir(base_dir)\n",
    "folder_count = sum(os.path.isdir(os.path.join(base_dir, entry)) for entry in entries)\n",
    "print(folder_count)\n",
    "\n",
    "from tensorflow.keras.models import Sequential\n",
    "from tensorflow.keras.layers import Conv2D, MaxPooling2D, Flatten, Dense, Dropout, Input\n",
    "\n",
    "model = Sequential([\n",
    "    Input(shape=(128, 128, 3)),  # Sử dụng Input layer để xác định kích thước đầu vào\n",
    "    Conv2D(32, (3, 3), activation='relu'),\n",
    "    MaxPooling2D(2, 2),\n",
    "    Conv2D(64, (3, 3), activation='relu'),\n",
    "    MaxPooling2D(2, 2),\n",
    "    Conv2D(128, (3, 3), activation='relu'),\n",
    "    MaxPooling2D(2, 2),\n",
    "    Flatten(),\n",
    "    Dense(512, activation='relu'),\n",
    "    Dropout(0.5),\n",
    "    Dense(folder_count, activation='softmax')  # `len(data_dict)` là số lớp\n",
    "])\n",
    "\n",
    "model.compile(optimizer='adam', loss='categorical_crossentropy', metrics=['accuracy'])"
   ]
  },
  {
   "cell_type": "code",
   "execution_count": 50,
   "id": "94c0ad5c-b334-4138-8742-2f2cc1793d7e",
   "metadata": {},
   "outputs": [
    {
     "name": "stdout",
     "output_type": "stream",
     "text": [
      "Epoch 1/10\n",
      "\u001b[1m1/1\u001b[0m \u001b[32m━━━━━━━━━━━━━━━━━━━━\u001b[0m\u001b[37m\u001b[0m \u001b[1m4s\u001b[0m 4s/step - accuracy: 0.5556 - loss: 1.0632\n",
      "Epoch 2/10\n",
      "\u001b[1m1/1\u001b[0m \u001b[32m━━━━━━━━━━━━━━━━━━━━\u001b[0m\u001b[37m\u001b[0m \u001b[1m0s\u001b[0m 233ms/step - accuracy: 0.4444 - loss: 1.3380\n",
      "Epoch 3/10\n",
      "\u001b[1m1/1\u001b[0m \u001b[32m━━━━━━━━━━━━━━━━━━━━\u001b[0m\u001b[37m\u001b[0m \u001b[1m0s\u001b[0m 214ms/step - accuracy: 0.5556 - loss: 1.3538\n",
      "Epoch 4/10\n",
      "\u001b[1m1/1\u001b[0m \u001b[32m━━━━━━━━━━━━━━━━━━━━\u001b[0m\u001b[37m\u001b[0m \u001b[1m0s\u001b[0m 244ms/step - accuracy: 0.5556 - loss: 0.9679\n",
      "Epoch 5/10\n",
      "\u001b[1m1/1\u001b[0m \u001b[32m━━━━━━━━━━━━━━━━━━━━\u001b[0m\u001b[37m\u001b[0m \u001b[1m0s\u001b[0m 286ms/step - accuracy: 0.5556 - loss: 0.8889\n",
      "Epoch 6/10\n",
      "\u001b[1m1/1\u001b[0m \u001b[32m━━━━━━━━━━━━━━━━━━━━\u001b[0m\u001b[37m\u001b[0m \u001b[1m0s\u001b[0m 231ms/step - accuracy: 1.0000 - loss: 0.6378\n",
      "Epoch 7/10\n",
      "\u001b[1m1/1\u001b[0m \u001b[32m━━━━━━━━━━━━━━━━━━━━\u001b[0m\u001b[37m\u001b[0m \u001b[1m0s\u001b[0m 227ms/step - accuracy: 0.5556 - loss: 0.6619\n",
      "Epoch 8/10\n",
      "\u001b[1m1/1\u001b[0m \u001b[32m━━━━━━━━━━━━━━━━━━━━\u001b[0m\u001b[37m\u001b[0m \u001b[1m0s\u001b[0m 229ms/step - accuracy: 0.7778 - loss: 0.4755\n",
      "Epoch 9/10\n",
      "\u001b[1m1/1\u001b[0m \u001b[32m━━━━━━━━━━━━━━━━━━━━\u001b[0m\u001b[37m\u001b[0m \u001b[1m0s\u001b[0m 265ms/step - accuracy: 1.0000 - loss: 0.3092\n",
      "Epoch 10/10\n",
      "\u001b[1m1/1\u001b[0m \u001b[32m━━━━━━━━━━━━━━━━━━━━\u001b[0m\u001b[37m\u001b[0m \u001b[1m0s\u001b[0m 279ms/step - accuracy: 1.0000 - loss: 0.2945\n"
     ]
    }
   ],
   "source": [
    "import tensorflow as tf\n",
    "\n",
    "# train_dataset = tf.data.Dataset.from_tensor_slices((data_train, labels_train_one_hot)).batch(32).repeat()\n",
    "# test_dataset = tf.data.Dataset.from_tensor_slices((data_test, labels_test_one_hot)).batch(32).repeat()\n",
    "\n",
    "# Huấn luyện mô hình validation_data=(data_test, labels_test_one_hot)\n",
    "history = model.fit(\n",
    "    data_train, labels_train_one_hot,\n",
    "    epochs=10, # Số lượng bước huấn luyện mỗi epoch\n",
    ")"
   ]
  },
  {
   "cell_type": "code",
   "execution_count": 51,
   "id": "4f68bd09-d5d0-4e4b-8c10-606d14c59e3f",
   "metadata": {},
   "outputs": [
    {
     "data": {
      "text/plain": [
       "['loss', 'compile_metrics']"
      ]
     },
     "execution_count": 51,
     "metadata": {},
     "output_type": "execute_result"
    }
   ],
   "source": [
    "model.metrics_names"
   ]
  },
  {
   "cell_type": "code",
   "execution_count": 52,
   "id": "bdbbb542-d387-4ca1-a4c0-94956cd145b6",
   "metadata": {},
   "outputs": [
    {
     "name": "stdout",
     "output_type": "stream",
     "text": [
      "\u001b[1m1/1\u001b[0m \u001b[32m━━━━━━━━━━━━━━━━━━━━\u001b[0m\u001b[37m\u001b[0m \u001b[1m0s\u001b[0m 352ms/step - accuracy: 0.3333 - loss: 1.7631\n"
     ]
    },
    {
     "data": {
      "text/plain": [
       "[1.7630821466445923, 0.3333333432674408]"
      ]
     },
     "execution_count": 52,
     "metadata": {},
     "output_type": "execute_result"
    }
   ],
   "source": [
    "model.evaluate(data_test,labels_test_one_hot)"
   ]
  },
  {
   "cell_type": "code",
   "execution_count": 53,
   "id": "611a0886-0eef-4a85-ba16-a6868ddfa491",
   "metadata": {},
   "outputs": [
    {
     "name": "stdout",
     "output_type": "stream",
     "text": [
      "WARNING:tensorflow:5 out of the last 5 calls to <function TensorFlowTrainer.make_predict_function.<locals>.one_step_on_data_distributed at 0x0000021728B88E00> triggered tf.function retracing. Tracing is expensive and the excessive number of tracings could be due to (1) creating @tf.function repeatedly in a loop, (2) passing tensors with different shapes, (3) passing Python objects instead of tensors. For (1), please define your @tf.function outside of the loop. For (2), @tf.function has reduce_retracing=True option that can avoid unnecessary retracing. For (3), please refer to https://www.tensorflow.org/guide/function#controlling_retracing and https://www.tensorflow.org/api_docs/python/tf/function for  more details.\n",
      "\u001b[1m1/1\u001b[0m \u001b[32m━━━━━━━━━━━━━━━━━━━━\u001b[0m\u001b[37m\u001b[0m \u001b[1m0s\u001b[0m 157ms/step\n",
      "              precision    recall  f1-score   support\n",
      "\n",
      "           0       0.00      0.00      0.00         1\n",
      "           1       0.50      1.00      0.67         1\n",
      "           2       0.00      0.00      0.00         1\n",
      "\n",
      "    accuracy                           0.33         3\n",
      "   macro avg       0.17      0.33      0.22         3\n",
      "weighted avg       0.17      0.33      0.22         3\n",
      "\n"
     ]
    },
    {
     "name": "stderr",
     "output_type": "stream",
     "text": [
      "c:\\Users\\huuhi\\anaconda3\\Lib\\site-packages\\sklearn\\metrics\\_classification.py:1344: UndefinedMetricWarning: Precision and F-score are ill-defined and being set to 0.0 in labels with no predicted samples. Use `zero_division` parameter to control this behavior.\n",
      "  _warn_prf(average, modifier, msg_start, len(result))\n",
      "c:\\Users\\huuhi\\anaconda3\\Lib\\site-packages\\sklearn\\metrics\\_classification.py:1344: UndefinedMetricWarning: Precision and F-score are ill-defined and being set to 0.0 in labels with no predicted samples. Use `zero_division` parameter to control this behavior.\n",
      "  _warn_prf(average, modifier, msg_start, len(result))\n",
      "c:\\Users\\huuhi\\anaconda3\\Lib\\site-packages\\sklearn\\metrics\\_classification.py:1344: UndefinedMetricWarning: Precision and F-score are ill-defined and being set to 0.0 in labels with no predicted samples. Use `zero_division` parameter to control this behavior.\n",
      "  _warn_prf(average, modifier, msg_start, len(result))\n"
     ]
    }
   ],
   "source": [
    "from sklearn.metrics import classification_report\n",
    "import numpy as np\n",
    "\n",
    "predictions = model.predict(data_test)\n",
    "\n",
    "predicted_classes = np.argmax(predictions, axis=1)\n",
    "\n",
    "actual_classes = np.argmax(labels_test_one_hot, axis=1)\n",
    "\n",
    "report = classification_report(actual_classes, predicted_classes)\n",
    "print(report)"
   ]
  },
  {
   "cell_type": "code",
   "execution_count": 54,
   "id": "cd88c74c-3334-4d92-a9f3-aa79dd184510",
   "metadata": {},
   "outputs": [
    {
     "name": "stdout",
     "output_type": "stream",
     "text": [
      "[[0 1 0]\n",
      " [0 1 0]\n",
      " [1 0 0]]\n",
      "True Positives:  [0 1 0]\n",
      "False Positives:  [1 1 0]\n",
      "True Negatives:  [1 1 2]\n",
      "False Negatives:  [1 0 1]\n"
     ]
    }
   ],
   "source": [
    "from sklearn.metrics import confusion_matrix\n",
    "import numpy as np\n",
    "\n",
    "# Giả sử predicted_classes là nhãn dự đoán từ mô hình của bạn\n",
    "# và actual_classes là nhãn thực tế của tập kiểm tra\n",
    " # [[41  7  1  0  2]\n",
    " # [ 1  3  1  3  3]\n",
    " # [ 8  0 34  1  8]\n",
    " # [ 7  1  1 15  5]\n",
    " # [ 4  0  7  7 32]]\n",
    "# Tính ma trận nhầm lẫn\n",
    "cm = confusion_matrix(actual_classes, predicted_classes)\n",
    "\n",
    "# In ma trận nhầm lẫn\n",
    "print(cm)\n",
    "\n",
    "# Tính TP, TN, FP, FN cho mỗi lớp\n",
    "TP = np.diag(cm)\n",
    "FP = cm.sum(axis=0) - np.diag(cm)\n",
    "FN = cm.sum(axis=1) - np.diag(cm)\n",
    "TN = cm.sum() - (FP + FN + TP)\n",
    "\n",
    "# In ra số lượng TP, TN, FP, FN cho mỗi lớp\n",
    "print(\"True Positives: \", TP)\n",
    "print(\"False Positives: \", FP)\n",
    "print(\"True Negatives: \", TN)\n",
    "print(\"False Negatives: \", FN)\n"
   ]
  },
  {
   "cell_type": "code",
   "execution_count": 55,
   "id": "b18e059b-7dcb-405a-84ea-cbb06a24ef5e",
   "metadata": {},
   "outputs": [],
   "source": [
    "model.save('e-commerce-model.keras')"
   ]
  },
  {
   "cell_type": "code",
   "execution_count": 56,
   "id": "240aa009-49c4-4648-958a-2fbdeb632a3b",
   "metadata": {
    "editable": true,
    "slideshow": {
     "slide_type": ""
    },
    "tags": []
   },
   "outputs": [
    {
     "data": {
      "text/plain": [
       "['label_encoder.pkl']"
      ]
     },
     "execution_count": 56,
     "metadata": {},
     "output_type": "execute_result"
    }
   ],
   "source": [
    "import joblib\n",
    "\n",
    "# Lưu encoder\n",
    "joblib.dump(encoder, 'label_encoder.pkl')"
   ]
  },
  {
   "cell_type": "code",
   "execution_count": 57,
   "id": "90dd4420-af56-47e3-9a07-60998395b42b",
   "metadata": {
    "editable": true,
    "slideshow": {
     "slide_type": ""
    },
    "tags": [
     "only"
    ]
   },
   "outputs": [
    {
     "name": "stdout",
     "output_type": "stream",
     "text": [
      "WARNING:tensorflow:6 out of the last 6 calls to <function TensorFlowTrainer.make_predict_function.<locals>.one_step_on_data_distributed at 0x0000021728B88E00> triggered tf.function retracing. Tracing is expensive and the excessive number of tracings could be due to (1) creating @tf.function repeatedly in a loop, (2) passing tensors with different shapes, (3) passing Python objects instead of tensors. For (1), please define your @tf.function outside of the loop. For (2), @tf.function has reduce_retracing=True option that can avoid unnecessary retracing. For (3), please refer to https://www.tensorflow.org/guide/function#controlling_retracing and https://www.tensorflow.org/api_docs/python/tf/function for  more details.\n",
      "\u001b[1m1/1\u001b[0m \u001b[32m━━━━━━━━━━━━━━━━━━━━\u001b[0m\u001b[37m\u001b[0m \u001b[1m0s\u001b[0m 152ms/step\n",
      "Xác suất dự đoán cho mỗi nhãn:\n",
      "Iphone 13: 81.48%\n"
     ]
    }
   ],
   "source": [
    "# run this cell\n",
    "import requests\n",
    "import numpy as np\n",
    "from keras.preprocessing import image\n",
    "from keras.models import load_model\n",
    "import joblib\n",
    "\n",
    "url = 'http://localhost:3000/Imgsearch'\n",
    "\n",
    "# Tải LabelEncoder\n",
    "encoder = joblib.load('label_encoder.pkl')\n",
    "\n",
    "# Chuẩn bị ảnh\n",
    "img_path = './uploads/anh_8.jpg'\n",
    "img = image.load_img(img_path, target_size=(128, 128))\n",
    "img_array = image.img_to_array(img)\n",
    "img_array = np.expand_dims(img_array, axis=0)\n",
    "img_array /= 255.0\n",
    "\n",
    "# Dự đoán\n",
    "predictions = model.predict(img_array)\n",
    "\n",
    "# Lấy tất cả nhãn từ encoder\n",
    "all_labels = encoder.classes_\n",
    "\n",
    "# Hiển thị xác suất dự đoán cho mỗi nhãn\n",
    "print(\"Xác suất dự đoán cho mỗi nhãn:\")\n",
    "for label, prob in zip(all_labels, predictions[0]):\n",
    "        if prob * 100 > 20:  # \n",
    "            print(f\"{label}: {prob*100:.2f}%\")\n",
    "    \n"
   ]
  }
 ],
 "metadata": {
  "kernelspec": {
   "display_name": "base",
   "language": "python",
   "name": "python3"
  },
  "language_info": {
   "codemirror_mode": {
    "name": "ipython",
    "version": 3
   },
   "file_extension": ".py",
   "mimetype": "text/x-python",
   "name": "python",
   "nbconvert_exporter": "python",
   "pygments_lexer": "ipython3",
   "version": "3.11.7"
  }
 },
 "nbformat": 4,
 "nbformat_minor": 5
}
