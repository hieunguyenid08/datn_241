{
 "cells": [
  {
   "cell_type": "markdown",
   "id": "4c3ab258",
   "metadata": {
    "tags": [
     "papermill-error-cell-tag"
    ]
   },
   "source": [
    "<span style=\"color:red; font-family:Helvetica Neue, Helvetica, Arial, sans-serif; font-size:2em;\">An Exception was encountered at '<a href=\"#papermill-error-cell\">In [4]</a>'.</span>"
   ]
  },
  {
   "cell_type": "code",
   "execution_count": 1,
   "id": "36c5aad9",
   "metadata": {
    "execution": {
     "iopub.execute_input": "2024-11-25T21:15:12.068707Z",
     "iopub.status.busy": "2024-11-25T21:15:12.068707Z",
     "iopub.status.idle": "2024-11-25T21:15:12.075484Z",
     "shell.execute_reply": "2024-11-25T21:15:12.074485Z"
    },
    "papermill": {
     "duration": 0.014781,
     "end_time": "2024-11-25T21:15:12.076485",
     "exception": false,
     "start_time": "2024-11-25T21:15:12.061704",
     "status": "completed"
    },
    "tags": [
     "injected-parameters"
    ]
   },
   "outputs": [],
   "source": [
    "# Parameters\n",
    "image_path = \"./uploads\\\\anh_1.jpg\"\n"
   ]
  },
  {
   "cell_type": "code",
   "execution_count": 2,
   "id": "52890889-1171-4c7a-a051-10a7dc381f8c",
   "metadata": {
    "execution": {
     "iopub.execute_input": "2024-11-25T21:15:12.088485Z",
     "iopub.status.busy": "2024-11-25T21:15:12.088485Z",
     "iopub.status.idle": "2024-11-25T21:15:12.093648Z",
     "shell.execute_reply": "2024-11-25T21:15:12.092647Z"
    },
    "papermill": {
     "duration": 0.012164,
     "end_time": "2024-11-25T21:15:12.094648",
     "exception": false,
     "start_time": "2024-11-25T21:15:12.082484",
     "status": "completed"
    },
    "tags": []
   },
   "outputs": [],
   "source": [
    "data_dict = {\n",
    "    #\"label\" :\"link\"\n",
    "      \"Iphone 15 Pro Max\": [\n",
    "        \"https://product.hstatic.net/200000409445/product/trang-1_8fba51fc48e44ded8efc158eed3cabfa_master.jpg\",\n",
    "        \"https://cdn2.cellphones.com.vn/insecure/rs:fill:358:358/q:90/plain/https://cellphones.com.vn/media/catalog/product/i/p/iphone-15-pro-max_4.png\",\n",
    "        \"https://cdsassets.apple.com/live/7WUAS350/images/tech-specs/iphone-15-pro-max.png\",\n",
    "        \"https://encrypted-tbn0.gstatic.com/images?q=tbn:ANd9GcR-FXpcfq_0BhttpS_tdQ3U2fw1xLqGrNmfMQ&s\",\n",
    "        \"https://m-cdn.phonearena.com/images/review/5801-wide-two_1200/iPhone-15-Pro-Max-vs-iPhone-15-Pro-Not-exactly-two-peas-in-a-pod.jpg\"\n",
    "    ],\n",
    "      \"Iphone 13 Pro Max\": [\n",
    "        \"https://cdn2.cellphones.com.vn/insecure/rs:fill:358:358/q:90/plain/https://cellphones.com.vn/media/catalog/product/i/p/iphone-13_2_.png\",\n",
    "        \"https://file.hstatic.net/1000259254/file/iphone-13-pro-max-3_4bc5ec25ccdb44f49a416745a0416632_grande.jpg\"\n",
    "        \n",
    "    ],\n",
    "    \"Tcl Google Tv\": [\n",
    "        \"https://cdn.tgdd.vn/Products/Images/1942/306073/google-tivi-tcl-43-inch-43s5400-180423-113537-550x340.jpg\",\n",
    "        \"https://cdn.tgdd.vn/Products/Images/1942/281936/google-tcl-4k-55-inch-55p635-270522-021039-550x340.jpg\"\n",
    "     \n",
    "    ]\n",
    "}"
   ]
  },
  {
   "cell_type": "code",
   "execution_count": 3,
   "id": "2db9af42-2329-47db-a8d0-ec93fa547a97",
   "metadata": {
    "execution": {
     "iopub.execute_input": "2024-11-25T21:15:12.109648Z",
     "iopub.status.busy": "2024-11-25T21:15:12.108648Z",
     "iopub.status.idle": "2024-11-25T21:15:12.112448Z",
     "shell.execute_reply": "2024-11-25T21:15:12.112448Z"
    },
    "papermill": {
     "duration": 0.012801,
     "end_time": "2024-11-25T21:15:12.113447",
     "exception": false,
     "start_time": "2024-11-25T21:15:12.100646",
     "status": "completed"
    },
    "tags": []
   },
   "outputs": [],
   "source": [
    "base_dir = \"./Data_images\""
   ]
  },
  {
   "cell_type": "markdown",
   "id": "6be49d4d",
   "metadata": {
    "tags": [
     "papermill-error-cell-tag"
    ]
   },
   "source": [
    "<span id=\"papermill-error-cell\" style=\"color:red; font-family:Helvetica Neue, Helvetica, Arial, sans-serif; font-size:2em;\">Execution using papermill encountered an exception here and stopped:</span>"
   ]
  },
  {
   "cell_type": "code",
   "execution_count": 4,
   "id": "f11f6db3-bc00-42e2-8ebe-275207889134",
   "metadata": {
    "execution": {
     "iopub.execute_input": "2024-11-25T21:15:12.125449Z",
     "iopub.status.busy": "2024-11-25T21:15:12.124450Z",
     "iopub.status.idle": "2024-11-25T21:15:13.109237Z",
     "shell.execute_reply": "2024-11-25T21:15:13.109237Z"
    },
    "papermill": {
     "duration": 0.992785,
     "end_time": "2024-11-25T21:15:13.111236",
     "exception": true,
     "start_time": "2024-11-25T21:15:12.118451",
     "status": "failed"
    },
    "tags": []
   },
   "outputs": [
    {
     "ename": "ModuleNotFoundError",
     "evalue": "No module named 'PIL'",
     "output_type": "error",
     "traceback": [
      "\u001b[1;31m---------------------------------------------------------------------------\u001b[0m",
      "\u001b[1;31mModuleNotFoundError\u001b[0m                       Traceback (most recent call last)",
      "Cell \u001b[1;32mIn[4], line 3\u001b[0m\n\u001b[0;32m      1\u001b[0m \u001b[38;5;28;01mimport\u001b[39;00m \u001b[38;5;21;01mos\u001b[39;00m\n\u001b[0;32m      2\u001b[0m \u001b[38;5;28;01mimport\u001b[39;00m \u001b[38;5;21;01mrequests\u001b[39;00m\n\u001b[1;32m----> 3\u001b[0m \u001b[38;5;28;01mfrom\u001b[39;00m \u001b[38;5;21;01mPIL\u001b[39;00m \u001b[38;5;28;01mimport\u001b[39;00m Image\n\u001b[0;32m      4\u001b[0m \u001b[38;5;28;01mfrom\u001b[39;00m \u001b[38;5;21;01mio\u001b[39;00m \u001b[38;5;28;01mimport\u001b[39;00m BytesIO\n\u001b[0;32m      6\u001b[0m \u001b[38;5;66;03m# Hàm tải và lưu ảnh\u001b[39;00m\n",
      "\u001b[1;31mModuleNotFoundError\u001b[0m: No module named 'PIL'"
     ]
    }
   ],
   "source": [
    "import os\n",
    "import requests\n",
    "from PIL import Image\n",
    "from io import BytesIO\n",
    "\n",
    "# Hàm tải và lưu ảnh\n",
    "def tai_va_luu_anh(url, path_to_save):\n",
    "    try:\n",
    "        response = requests.get(url)\n",
    "        if response.status_code == 200:\n",
    "            img = Image.open(BytesIO(response.content))\n",
    "\n",
    "            # Kiểm tra nếu ảnh là trong chế độ RGBA, chuyển nó sang RGB\n",
    "            if img.mode == 'RGBA':\n",
    "                img = img.convert('RGB')\n",
    "\n",
    "            img.save(path_to_save)\n",
    "            print(f\"Đã lưu: {path_to_save}\")\n",
    "        else:\n",
    "            print(f\"Lỗi khi tải ảnh từ {url}: Status code {response.status_code}\")\n",
    "    except Exception as e:\n",
    "        print(f\"Không thể tải ảnh từ {url}. Lỗi: {e}\")\n",
    "\n",
    "# Giả sử `base_dir` và `data_dict` đã được định nghĩa\n",
    "# Duyệt qua từ điển và tải ảnh\n",
    "for label, urls in data_dict.items():\n",
    "    # Tạo thư mục cho mỗi label nếu chưa tồn tại\n",
    "    label_dir = os.path.join(base_dir, label)  # Sử dụng trực tiếp tên label\n",
    "    os.makedirs(label_dir, exist_ok=True)\n",
    "    \n",
    "    # Tải và lưu mỗi ảnh trong list\n",
    "    for i, url in enumerate(urls):\n",
    "        file_name = f\"anh_{i}.jpg\"  # Đặt tên file\n",
    "        path_to_save = os.path.join(label_dir, file_name)\n",
    "        tai_va_luu_anh(url, path_to_save)"
   ]
  },
  {
   "cell_type": "code",
   "execution_count": null,
   "id": "6fa26698-a59b-4126-bfb6-e2b7fc98f962",
   "metadata": {
    "papermill": {
     "duration": null,
     "end_time": null,
     "exception": null,
     "start_time": null,
     "status": "pending"
    },
    "tags": []
   },
   "outputs": [],
   "source": [
    "import glob\n",
    "import numpy as np\n",
    "import os\n",
    "from PIL import Image\n",
    "\n",
    "    \n",
    "def doc_va_chuyen_doi_anh_voi_nhan(thu_muc, label, target_size=(128, 128)):\n",
    "    data_arrays = []\n",
    "    labels = []\n",
    "    \n",
    "    # Include both JPG and PNG files in the search pattern\n",
    "    for file_path in glob.glob(os.path.join(thu_muc, \"*.*\")):\n",
    "        if file_path.lower().endswith(('.png', '.jpg', '.jpeg')):\n",
    "            img = Image.open(file_path).convert('RGB')  # Convert to RGB\n",
    "            img_resized = img.resize(target_size)\n",
    "            img_array = np.array(img_resized) / 255.0\n",
    "            #print(img_array.shape)  # Debugging to check shape\n",
    "            data_arrays.append(img_array)\n",
    "            labels.append(label)\n",
    "    \n",
    "    return np.array(data_arrays), np.array(labels)\n",
    "\n",
    "data_train = []\n",
    "labels_train = []\n",
    "data_test = []\n",
    "labels_test = []\n",
    "\n",
    "# Sử dụng hàm cho mỗi thư mục nhãn\n",
    "for label in os.listdir(base_dir):\n",
    "    full_path = os.path.join(base_dir, label)\n",
    "    print(full_path)\n",
    "    data, labels = doc_va_chuyen_doi_anh_voi_nhan(full_path, label)\n",
    "    \n",
    "    # Giả sử chia 90% đầu làm dữ liệu huấn luyện và 10% còn lại làm dữ liệu kiểm tra\n",
    "    split_idx = int(len(data) * 0.9)\n",
    "    data_train.extend(data[:split_idx])\n",
    "    labels_train.extend(labels[:split_idx])\n",
    "    \n",
    "    data_test.extend(data[split_idx:])\n",
    "    labels_test.extend(labels[split_idx:])\n",
    "\n",
    "# Chuyển các list thành numpy arrays\n",
    "data_train = np.array(data_train)\n",
    "labels_train = np.array(labels_train)\n",
    "data_test = np.array(data_test)\n",
    "labels_test = np.array(labels_test)\n",
    "\n",
    "print(f\"Dữ liệu huấn luyện: {data_train.shape}, Nhãn huấn luyện: {labels_train.shape}\")\n",
    "print(f\"Dữ liệu kiểm tra: {data_test.shape}, Nhãn kiểm tra: {labels_test.shape}\")\n"
   ]
  },
  {
   "cell_type": "code",
   "execution_count": null,
   "id": "3f43b177-a43b-4ec9-885f-7baf8b553e2c",
   "metadata": {
    "papermill": {
     "duration": null,
     "end_time": null,
     "exception": null,
     "start_time": null,
     "status": "pending"
    },
    "tags": []
   },
   "outputs": [],
   "source": [
    "data_test.shape"
   ]
  },
  {
   "cell_type": "code",
   "execution_count": null,
   "id": "ef73b070-8150-4151-b0e5-ecfe35282a77",
   "metadata": {
    "papermill": {
     "duration": null,
     "end_time": null,
     "exception": null,
     "start_time": null,
     "status": "pending"
    },
    "tags": []
   },
   "outputs": [],
   "source": [
    "labels_test"
   ]
  },
  {
   "cell_type": "code",
   "execution_count": null,
   "id": "07404be6-b706-4417-9342-52174520ade6",
   "metadata": {
    "papermill": {
     "duration": null,
     "end_time": null,
     "exception": null,
     "start_time": null,
     "status": "pending"
    },
    "tags": []
   },
   "outputs": [],
   "source": [
    "from sklearn.preprocessing import LabelEncoder\n",
    "\n",
    "# Tạo một encoder\n",
    "encoder = LabelEncoder()\n",
    "\n",
    "# Đưa nhãn văn bản về dạng số nguyên\n",
    "labels_train_encoded = encoder.fit_transform(labels_train)\n",
    "labels_test_encoded = encoder.fit_transform(labels_test)\n",
    "# In nhãn sau khi được mã hóa để kiểm tra\n",
    "print(labels_train_encoded)\n",
    "print(labels_test_encoded)"
   ]
  },
  {
   "cell_type": "code",
   "execution_count": null,
   "id": "3c0ec265-6f9c-45f6-8aa7-db904dba2df0",
   "metadata": {
    "papermill": {
     "duration": null,
     "end_time": null,
     "exception": null,
     "start_time": null,
     "status": "pending"
    },
    "tags": []
   },
   "outputs": [],
   "source": [
    "pip install tensorflow"
   ]
  },
  {
   "cell_type": "code",
   "execution_count": null,
   "id": "f15ffd29-9beb-42a6-9c32-4ae2cf629e11",
   "metadata": {
    "papermill": {
     "duration": null,
     "end_time": null,
     "exception": null,
     "start_time": null,
     "status": "pending"
    },
    "tags": []
   },
   "outputs": [],
   "source": [
    "from tensorflow.keras.utils import to_categorical\n",
    "\n",
    "\n",
    "# Chuyển đổi nhãn sang dạng one-hot\n",
    "labels_train_one_hot = to_categorical(labels_train_encoded)\n",
    "labels_test_one_hot = to_categorical(labels_test_encoded)"
   ]
  },
  {
   "cell_type": "code",
   "execution_count": null,
   "id": "8117a684-5a05-42d0-9d21-1ec9d99439f0",
   "metadata": {
    "papermill": {
     "duration": null,
     "end_time": null,
     "exception": null,
     "start_time": null,
     "status": "pending"
    },
    "scrolled": true,
    "tags": []
   },
   "outputs": [],
   "source": [
    "labels_train_one_hot"
   ]
  },
  {
   "cell_type": "code",
   "execution_count": null,
   "id": "ce9dc1e9",
   "metadata": {
    "papermill": {
     "duration": null,
     "end_time": null,
     "exception": null,
     "start_time": null,
     "status": "pending"
    },
    "tags": []
   },
   "outputs": [],
   "source": []
  },
  {
   "cell_type": "code",
   "execution_count": null,
   "id": "fe57fb6d-9bbe-4c30-a992-0f33f2c22de9",
   "metadata": {
    "papermill": {
     "duration": null,
     "end_time": null,
     "exception": null,
     "start_time": null,
     "status": "pending"
    },
    "tags": []
   },
   "outputs": [],
   "source": [
    "entries = os.listdir(base_dir)\n",
    "folder_count = sum(os.path.isdir(os.path.join(base_dir, entry)) for entry in entries)\n",
    "print(folder_count)\n",
    "\n",
    "from tensorflow.keras.models import Sequential\n",
    "from tensorflow.keras.layers import Conv2D, MaxPooling2D, Flatten, Dense, Dropout, Input\n",
    "\n",
    "model = Sequential([\n",
    "    Input(shape=(128, 128, 3)),  # Sử dụng Input layer để xác định kích thước đầu vào\n",
    "    Conv2D(32, (3, 3), activation='relu'),\n",
    "    MaxPooling2D(2, 2),\n",
    "    Conv2D(64, (3, 3), activation='relu'),\n",
    "    MaxPooling2D(2, 2),\n",
    "    Conv2D(128, (3, 3), activation='relu'),\n",
    "    MaxPooling2D(2, 2),\n",
    "    Flatten(),\n",
    "    Dense(512, activation='relu'),\n",
    "    Dropout(0.5),\n",
    "    Dense(folder_count, activation='softmax')  # `len(data_dict)` là số lớp\n",
    "])\n",
    "\n",
    "model.compile(optimizer='adam', loss='categorical_crossentropy', metrics=['accuracy'])"
   ]
  },
  {
   "cell_type": "code",
   "execution_count": null,
   "id": "94c0ad5c-b334-4138-8742-2f2cc1793d7e",
   "metadata": {
    "papermill": {
     "duration": null,
     "end_time": null,
     "exception": null,
     "start_time": null,
     "status": "pending"
    },
    "tags": []
   },
   "outputs": [],
   "source": [
    "import tensorflow as tf\n",
    "\n",
    "# train_dataset = tf.data.Dataset.from_tensor_slices((data_train, labels_train_one_hot)).batch(32).repeat()\n",
    "# test_dataset = tf.data.Dataset.from_tensor_slices((data_test, labels_test_one_hot)).batch(32).repeat()\n",
    "\n",
    "# Huấn luyện mô hình validation_data=(data_test, labels_test_one_hot)\n",
    "history = model.fit(\n",
    "    data_train, labels_train_one_hot,\n",
    "    epochs=10, # Số lượng bước huấn luyện mỗi epoch\n",
    ")"
   ]
  },
  {
   "cell_type": "code",
   "execution_count": null,
   "id": "4f68bd09-d5d0-4e4b-8c10-606d14c59e3f",
   "metadata": {
    "papermill": {
     "duration": null,
     "end_time": null,
     "exception": null,
     "start_time": null,
     "status": "pending"
    },
    "tags": []
   },
   "outputs": [],
   "source": [
    "model.metrics_names"
   ]
  },
  {
   "cell_type": "code",
   "execution_count": null,
   "id": "bdbbb542-d387-4ca1-a4c0-94956cd145b6",
   "metadata": {
    "papermill": {
     "duration": null,
     "end_time": null,
     "exception": null,
     "start_time": null,
     "status": "pending"
    },
    "tags": []
   },
   "outputs": [],
   "source": [
    "model.evaluate(data_test,labels_test_one_hot)"
   ]
  },
  {
   "cell_type": "code",
   "execution_count": null,
   "id": "611a0886-0eef-4a85-ba16-a6868ddfa491",
   "metadata": {
    "papermill": {
     "duration": null,
     "end_time": null,
     "exception": null,
     "start_time": null,
     "status": "pending"
    },
    "tags": []
   },
   "outputs": [],
   "source": [
    "from sklearn.metrics import classification_report\n",
    "import numpy as np\n",
    "\n",
    "predictions = model.predict(data_test)\n",
    "\n",
    "predicted_classes = np.argmax(predictions, axis=1)\n",
    "\n",
    "actual_classes = np.argmax(labels_test_one_hot, axis=1)\n",
    "\n",
    "report = classification_report(actual_classes, predicted_classes)\n",
    "print(report)"
   ]
  },
  {
   "cell_type": "code",
   "execution_count": null,
   "id": "cd88c74c-3334-4d92-a9f3-aa79dd184510",
   "metadata": {
    "papermill": {
     "duration": null,
     "end_time": null,
     "exception": null,
     "start_time": null,
     "status": "pending"
    },
    "tags": []
   },
   "outputs": [],
   "source": [
    "from sklearn.metrics import confusion_matrix\n",
    "import numpy as np\n",
    "\n",
    "# Giả sử predicted_classes là nhãn dự đoán từ mô hình của bạn\n",
    "# và actual_classes là nhãn thực tế của tập kiểm tra\n",
    " # [[41  7  1  0  2]\n",
    " # [ 1  3  1  3  3]\n",
    " # [ 8  0 34  1  8]\n",
    " # [ 7  1  1 15  5]\n",
    " # [ 4  0  7  7 32]]\n",
    "# Tính ma trận nhầm lẫn\n",
    "cm = confusion_matrix(actual_classes, predicted_classes)\n",
    "\n",
    "# In ma trận nhầm lẫn\n",
    "print(cm)\n",
    "\n",
    "# Tính TP, TN, FP, FN cho mỗi lớp\n",
    "TP = np.diag(cm)\n",
    "FP = cm.sum(axis=0) - np.diag(cm)\n",
    "FN = cm.sum(axis=1) - np.diag(cm)\n",
    "TN = cm.sum() - (FP + FN + TP)\n",
    "\n",
    "# In ra số lượng TP, TN, FP, FN cho mỗi lớp\n",
    "print(\"True Positives: \", TP)\n",
    "print(\"False Positives: \", FP)\n",
    "print(\"True Negatives: \", TN)\n",
    "print(\"False Negatives: \", FN)\n"
   ]
  },
  {
   "cell_type": "code",
   "execution_count": null,
   "id": "b18e059b-7dcb-405a-84ea-cbb06a24ef5e",
   "metadata": {
    "papermill": {
     "duration": null,
     "end_time": null,
     "exception": null,
     "start_time": null,
     "status": "pending"
    },
    "tags": []
   },
   "outputs": [],
   "source": [
    "model.save('e-commerce-model.keras')"
   ]
  },
  {
   "cell_type": "code",
   "execution_count": null,
   "id": "240aa009-49c4-4648-958a-2fbdeb632a3b",
   "metadata": {
    "editable": true,
    "papermill": {
     "duration": null,
     "end_time": null,
     "exception": null,
     "start_time": null,
     "status": "pending"
    },
    "slideshow": {
     "slide_type": ""
    },
    "tags": []
   },
   "outputs": [],
   "source": [
    "import joblib\n",
    "\n",
    "# Lưu encoder\n",
    "joblib.dump(encoder, 'label_encoder.pkl')"
   ]
  },
  {
   "cell_type": "code",
   "execution_count": null,
   "id": "90dd4420-af56-47e3-9a07-60998395b42b",
   "metadata": {
    "editable": true,
    "papermill": {
     "duration": null,
     "end_time": null,
     "exception": null,
     "start_time": null,
     "status": "pending"
    },
    "slideshow": {
     "slide_type": ""
    },
    "tags": [
     "only"
    ]
   },
   "outputs": [],
   "source": [
    "# run this cell\n",
    "import requests\n",
    "import numpy as np\n",
    "from keras.preprocessing import image\n",
    "from keras.models import load_model\n",
    "import joblib\n",
    "\n",
    "url = 'http://localhost:3000/Imgsearch'\n",
    "\n",
    "# Tải LabelEncoder\n",
    "encoder = joblib.load('label_encoder.pkl')\n",
    "\n",
    "# Chuẩn bị ảnh\n",
    "img_path = './uploads/anh_2.jpg'\n",
    "img = image.load_img(img_path, target_size=(128, 128))\n",
    "img_array = image.img_to_array(img)\n",
    "img_array = np.expand_dims(img_array, axis=0)\n",
    "img_array /= 255.0\n",
    "\n",
    "# Dự đoán\n",
    "predictions = model.predict(img_array)\n",
    "\n",
    "# Lấy tất cả nhãn từ encoder\n",
    "all_labels = encoder.classes_\n",
    "\n",
    "# Hiển thị xác suất dự đoán cho mỗi nhãn\n",
    "print(\"Xác suất dự đoán cho mỗi nhãn:\")\n",
    "for label, prob in zip(all_labels, predictions[0]):\n",
    "    print(f\"{label}: {prob*100:.2f}%\")\n"
   ]
  }
 ],
 "metadata": {
  "kernelspec": {
   "display_name": "base",
   "language": "python",
   "name": "python3"
  },
  "language_info": {
   "codemirror_mode": {
    "name": "ipython",
    "version": 3
   },
   "file_extension": ".py",
   "mimetype": "text/x-python",
   "name": "python",
   "nbconvert_exporter": "python",
   "pygments_lexer": "ipython3",
   "version": "3.12.4"
  },
  "papermill": {
   "default_parameters": {},
   "duration": 4.020701,
   "end_time": "2024-11-25T21:15:13.462263",
   "environment_variables": {},
   "exception": true,
   "input_path": "Untitled.ipynb",
   "output_path": "output.ipynb",
   "parameters": {
    "image_path": "./uploads\\anh_1.jpg"
   },
   "start_time": "2024-11-25T21:15:09.441562",
   "version": "2.6.0"
  }
 },
 "nbformat": 4,
 "nbformat_minor": 5
}